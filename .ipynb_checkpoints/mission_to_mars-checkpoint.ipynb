{
 "cells": [
  {
   "cell_type": "code",
   "execution_count": 1,
   "metadata": {},
   "outputs": [],
   "source": [
    "from bs4 import BeautifulSoup as bs\n",
    "from splinter import Browser\n",
    "import requests\n",
    "import pandas as pd\n",
    "from pprint import pprint"
   ]
  },
  {
   "cell_type": "code",
   "execution_count": 2,
   "metadata": {},
   "outputs": [],
   "source": [
    "mars_news_url = \"https://mars.nasa.gov/news/?page=0&per_page=40&order=publish_date+desc%2Ccreated_at+desc&search=&category=19%2C165%2C184%2C204&blank_scope=Latest\""
   ]
  },
  {
   "cell_type": "code",
   "execution_count": 3,
   "metadata": {},
   "outputs": [],
   "source": [
    "news_response = requests.get(mars_news_url)"
   ]
  },
  {
   "cell_type": "code",
   "execution_count": 4,
   "metadata": {},
   "outputs": [],
   "source": [
    "news_soup = bs(news_response.text, 'html.parser') "
   ]
  },
  {
   "cell_type": "code",
   "execution_count": 21,
   "metadata": {},
   "outputs": [],
   "source": [
    "news_results = news_soup.find_all('div', class_=\"slide\") "
   ]
  },
  {
   "cell_type": "code",
   "execution_count": 31,
   "metadata": {},
   "outputs": [],
   "source": [
    "# news_results_first = news_soup.find('div', class_=\"slide\") \n",
    "# news_title = news_results_first.find('div', class_=\"content_title\").text\n",
    "# top_title = news_title.replace(\"\\n\",\"\")\n",
    "# top_title_p = news_results_first.a.div.text.replace(\"\\n\",\"\")"
   ]
  },
  {
   "cell_type": "code",
   "execution_count": 8,
   "metadata": {},
   "outputs": [
    {
     "name": "stdout",
     "output_type": "stream",
     "text": [
      "-------------\n",
      "\n",
      "NASA's Curiosity Mars Rover Finds a Clay Cache\n",
      "\n",
      "\n",
      "\n",
      "\n",
      "The rover recently drilled two samples, and both showed the highest levels of clay ever found during the mission.\n",
      "\n",
      "\n",
      "\n",
      "\n",
      "\n",
      "-------------\n",
      "\n",
      "Why This Martian Full Moon Looks Like Candy\n",
      "\n",
      "\n",
      "\n",
      "\n",
      "For the first time, NASA's Mars Odyssey orbiter has caught the Martian moon Phobos during a full moon phase. Each color in this new image represents a temperature range detected by Odyssey's infrared camera.\n",
      "\n",
      "\n",
      "\n",
      "\n",
      "\n",
      "-------------\n",
      "\n",
      "NASA Garners 7 Webby Award Nominations\n",
      "\n",
      "\n",
      "\n",
      "\n",
      "Nominees include four JPL projects: the solar system and climate websites, InSight social media, and a 360-degree Earth video. Public voting closes April 18, 2019.\n",
      "\n",
      "\n",
      "\n",
      "\n",
      "\n",
      "-------------\n",
      "\n",
      "NASA's Opportunity Rover Mission on Mars Comes to End\n",
      "\n",
      "\n",
      "\n",
      "\n",
      "NASA's Opportunity Mars rover mission is complete after 15 years on Mars. Opportunity's record-breaking exploration laid the groundwork for future missions to the Red Planet.\n",
      "\n",
      "\n",
      "\n",
      "\n",
      "\n",
      "-------------\n",
      "\n",
      "NASA's InSight Places First Instrument on Mars\n",
      "\n",
      "\n",
      "\n",
      "\n",
      "In deploying its first instrument onto the surface of Mars, the lander completes a major mission milestone.\n",
      "\n",
      "\n",
      "\n",
      "\n",
      "\n",
      "-------------\n",
      "\n",
      "NASA Announces Landing Site for Mars 2020 Rover\n",
      "\n",
      "\n",
      "\n",
      "\n",
      "After a five-year search, NASA has chosen Jezero Crater as the landing site for its upcoming Mars 2020 rover mission.\n",
      "\n",
      "\n",
      "\n",
      "\n",
      "\n"
     ]
    }
   ],
   "source": [
    "for result in news_results:\n",
    "    try:\n",
    "        news_title = result.find('div', class_=\"content_title\").text\n",
    "        news_p = result.a.div.text\n",
    "\n",
    "        if (news_title and news_p):\n",
    "            print(f'-------------{news_title}\\n{news_p}')\n",
    "    except AttributeError as e:\n",
    "        print(e)"
   ]
  },
  {
   "cell_type": "code",
   "execution_count": null,
   "metadata": {},
   "outputs": [],
   "source": [
    "executable_path = {'executable_path': 'chromedriver.exe'}\n",
    "browser = Browser('chrome', **executable_path, headless=False) "
   ]
  },
  {
   "cell_type": "code",
   "execution_count": null,
   "metadata": {},
   "outputs": [],
   "source": [
    "image_url= \"https://www.jpl.nasa.gov/spaceimages/?search=&category=Mars\"\n",
    "browser.visit(image_url) "
   ]
  },
  {
   "cell_type": "code",
   "execution_count": null,
   "metadata": {},
   "outputs": [],
   "source": [
    "image_html = browser.html\n",
    "image_soup = bs(image_html, 'html.parser')\n",
    "\n",
    "featured_image = image_soup.find('article', class_='carousel_item')[\"style\"]\n",
    "\n",
    "link_featured_image = featured_image.split(\"'\")[1]\n",
    "\n",
    "base_url = \"https://www.jpl.nasa.gov\"\n",
    "\n",
    "featured_image_url = base_url + link_featured_image\n",
    "featured_image_url"
   ]
  },
  {
   "cell_type": "code",
   "execution_count": null,
   "metadata": {},
   "outputs": [],
   "source": [
    "weather_url = \"https://twitter.com/MarsWxReport\"\n",
    "weather_response = requests.get(weather_url)\n",
    "weather_soup = bs(weather_response.text, 'html.parser') \n",
    "print(weather_soup.prettify()) "
   ]
  },
  {
   "cell_type": "code",
   "execution_count": null,
   "metadata": {},
   "outputs": [],
   "source": [
    "mars_weather = weather_soup.find('p', class_=\"TweetTextSize TweetTextSize--normal js-tweet-text tweet-text\").text\n",
    "mars_weather"
   ]
  },
  {
   "cell_type": "code",
   "execution_count": null,
   "metadata": {},
   "outputs": [],
   "source": [
    "facts_url = \"https://space-facts.com/mars/\"\n",
    "facts_response = requests.get(facts_url)\n",
    "facts_soup = bs(facts_response.text, 'html.parser') \n",
    "print(facts_soup.prettify()) "
   ]
  },
  {
   "cell_type": "code",
   "execution_count": null,
   "metadata": {},
   "outputs": [],
   "source": [
    "fact_table= pd.read_html(facts_url)[1]\n",
    "fact_table"
   ]
  },
  {
   "cell_type": "code",
   "execution_count": null,
   "metadata": {},
   "outputs": [],
   "source": [
    "facts = fact_table.to_html(header=False, index=False, index_names=False)\n",
    "pprint(facts)"
   ]
  },
  {
   "cell_type": "code",
   "execution_count": null,
   "metadata": {},
   "outputs": [],
   "source": [
    "hemisphere_url= \"https://astrogeology.usgs.gov/search/results?q=hemisphere+enhanced&k1=target&v1=Mars\"\n",
    "browser.visit(hemisphere_url) "
   ]
  },
  {
   "cell_type": "code",
   "execution_count": null,
   "metadata": {},
   "outputs": [],
   "source": [
    "hemisphere_html = browser.html\n",
    "hemisphere_soup = bs(hemisphere_html, 'html.parser')\n",
    "\n",
    "new_image = hemisphere_soup.find_all(\"a\", class_=\"itemLink product-item\")\n",
    "\n",
    "hemisphere_base_url = \"https://astrogeology.usgs.gov\"\n",
    "\n",
    "new_image"
   ]
  },
  {
   "cell_type": "code",
   "execution_count": null,
   "metadata": {},
   "outputs": [],
   "source": [
    "image_sources = []\n",
    "image_url_list = []\n",
    "titles = []\n",
    "iteration = 0\n",
    "\n",
    "for links in new_image:\n",
    "    end_url = links.get(\"href\")\n",
    "    if end_url not in image_sources:\n",
    "        image_sources.append(end_url)\n",
    "        iteration += 1\n",
    "        click_url = hemisphere_base_url + end_url\n",
    "        browser.visit(click_url)\n",
    "        titles.append(browser.find_by_tag('h2').text)        \n",
    "        browser.find_link_by_text(\"Sample\").first.click()\n",
    "        print(browser.find_link_by_text(\"Sample\"))\n",
    "        print(browser.title)\n",
    "        url_for_image = browser.windows[iteration].url\n",
    "        image_url_list.append(url_for_image)\n",
    "\n",
    "image_url_list"
   ]
  },
  {
   "cell_type": "code",
   "execution_count": null,
   "metadata": {},
   "outputs": [],
   "source": [
    "pprint(titles)\n",
    "pprint(image_url_list)"
   ]
  },
  {
   "cell_type": "code",
   "execution_count": null,
   "metadata": {},
   "outputs": [],
   "source": [
    "hemisphere_image_urls = [\n",
    "    {\"title\":titles[0], \"img_url\":image_url_list[0]},\n",
    "    {\"title\":titles[1], \"img_url\":image_url_list[1]},\n",
    "    {\"title\":titles[2], \"img_url\":image_url_list[2]},\n",
    "    {\"title\":titles[3], \"img_url\":image_url_list[3]}\n",
    "]"
   ]
  },
  {
   "cell_type": "code",
   "execution_count": null,
   "metadata": {},
   "outputs": [],
   "source": [
    "hemisphere_image_urls"
   ]
  },
  {
   "cell_type": "code",
   "execution_count": null,
   "metadata": {},
   "outputs": [],
   "source": [
    "i = 0\n",
    "for picture in image_url_list:\n",
    "    Picture_request = requests.get(picture)\n",
    "    if Picture_request.status_code == 200:\n",
    "        with open(f\"{titles[i]}.jpg\", 'wb') as new:\n",
    "            new.write(Picture_request.content)\n",
    "            i = i + 1"
   ]
  },
  {
   "cell_type": "code",
   "execution_count": null,
   "metadata": {},
   "outputs": [],
   "source": []
  },
  {
   "cell_type": "code",
   "execution_count": null,
   "metadata": {},
   "outputs": [],
   "source": []
  }
 ],
 "metadata": {
  "kernelspec": {
   "display_name": "Python 3",
   "language": "python",
   "name": "python3"
  },
  "language_info": {
   "codemirror_mode": {
    "name": "ipython",
    "version": 3
   },
   "file_extension": ".py",
   "mimetype": "text/x-python",
   "name": "python",
   "nbconvert_exporter": "python",
   "pygments_lexer": "ipython3",
   "version": "3.7.3"
  }
 },
 "nbformat": 4,
 "nbformat_minor": 2
}
